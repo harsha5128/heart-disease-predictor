{
 "cells": [
  {
   "cell_type": "code",
   "execution_count": 1,
   "id": "fce44eb4",
   "metadata": {},
   "outputs": [],
   "source": [
    "from sklearn.preprocessing import MinMaxScaler\n",
    "from sklearn.ensemble import RandomForestClassifier\n",
    "import pandas as pd\n",
    "from pymongo import MongoClient\n",
    "from dotenv import load_dotenv\n",
    "import os"
   ]
  },
  {
   "cell_type": "code",
   "execution_count": 2,
   "id": "c474de26",
   "metadata": {},
   "outputs": [],
   "source": [
    "# Step 1: Load environment variables\n",
    "load_dotenv()\n",
    "MONGO_URI = os.getenv(\"MONGO_URI\")"
   ]
  },
  {
   "cell_type": "code",
   "execution_count": 3,
   "metadata": {},
   "outputs": [],
   "source": [
    "# MongoDB Connection\n",
    "client = MongoClient(MONGO_URI)\n",
    "db = client[\"healthcare\"]\n",
    "silver = db[\"heart_disease_silver\"]\n",
    "gold = db[\"heart_disease_gold\"]"
   ]
  },
  {
   "cell_type": "code",
   "execution_count": 4,
   "id": "030515d7",
   "metadata": {},
   "outputs": [],
   "source": [
    "# Step 1: Load Silver Layer\n",
    "silver_data = list(silver.find({}, {'_id': 0}))\n",
    "df = pd.DataFrame(silver_data)"
   ]
  },
  {
   "cell_type": "code",
   "execution_count": 8,
   "id": "ea8fa3fa",
   "metadata": {},
   "outputs": [
    {
     "name": "stdout",
     "output_type": "stream",
     "text": [
      "<class 'pandas.core.frame.DataFrame'>\n",
      "RangeIndex: 920 entries, 0 to 919\n",
      "Data columns (total 16 columns):\n",
      " #   Column    Non-Null Count  Dtype  \n",
      "---  ------    --------------  -----  \n",
      " 0   id        920 non-null    float64\n",
      " 1   age       920 non-null    float64\n",
      " 2   sex       920 non-null    float64\n",
      " 3   dataset   920 non-null    float64\n",
      " 4   cp        920 non-null    float64\n",
      " 5   trestbps  920 non-null    float64\n",
      " 6   chol      920 non-null    float64\n",
      " 7   fbs       920 non-null    float64\n",
      " 8   restecg   920 non-null    float64\n",
      " 9   thalch    920 non-null    float64\n",
      " 10  exang     920 non-null    float64\n",
      " 11  oldpeak   920 non-null    float64\n",
      " 12  slope     920 non-null    float64\n",
      " 13  ca        920 non-null    float64\n",
      " 14  thal      920 non-null    float64\n",
      " 15  num       920 non-null    int64  \n",
      "dtypes: float64(15), int64(1)\n",
      "memory usage: 115.1 KB\n"
     ]
    }
   ],
   "source": [
    "df.info()"
   ]
  },
  {
   "cell_type": "code",
   "execution_count": 5,
   "id": "a12bd492",
   "metadata": {},
   "outputs": [],
   "source": [
    "# Step 2: Normalize numerical features (except label column 'num')\n",
    "features_to_scale = df.drop(columns=['num']).columns\n",
    "scaler = MinMaxScaler()\n",
    "df[features_to_scale] = scaler.fit_transform(df[features_to_scale])"
   ]
  },
  {
   "cell_type": "code",
   "execution_count": 6,
   "id": "3176c998",
   "metadata": {},
   "outputs": [],
   "source": [
    "# Step 3: Feature Selection using RandomForest\n",
    "X = df.drop(columns=['num'])\n",
    "y = df['num']\n",
    "\n",
    "model = RandomForestClassifier(random_state=42)\n",
    "model.fit(X, y)\n",
    "\n",
    "importances = pd.Series(model.feature_importances_, index=X.columns)\n",
    "selected_features = importances[importances > 0.05].index.tolist()\n",
    "\n",
    "# Final Gold Data\n",
    "final_df = df[selected_features + ['num']]"
   ]
  },
  {
   "cell_type": "code",
   "execution_count": 7,
   "id": "2ee6ead2",
   "metadata": {},
   "outputs": [
    {
     "name": "stdout",
     "output_type": "stream",
     "text": [
      "✅ Inserted 920 records into `heart_disease_gold`.\n",
      "📌 Selected features: ['id', 'age', 'dataset', 'cp', 'trestbps', 'chol', 'thalch', 'oldpeak']\n"
     ]
    }
   ],
   "source": [
    "# Step 4: Upload to Gold Layer\n",
    "gold.delete_many({})\n",
    "gold.insert_many(final_df.to_dict(orient=\"records\"))\n",
    "\n",
    "print(f\"✅ Inserted {len(final_df)} records into `heart_disease_gold`.\")\n",
    "print(f\"📌 Selected features: {selected_features}\")"
   ]
  },
  {
   "cell_type": "code",
   "execution_count": null,
   "id": "5af15a6c",
   "metadata": {},
   "outputs": [],
   "source": []
  },
  {
   "cell_type": "code",
   "execution_count": null,
   "id": "77f383c8",
   "metadata": {},
   "outputs": [],
   "source": []
  }
 ],
 "metadata": {
  "kernelspec": {
   "display_name": "venv",
   "language": "python",
   "name": "python3"
  },
  "language_info": {
   "codemirror_mode": {
    "name": "ipython",
    "version": 3
   },
   "file_extension": ".py",
   "mimetype": "text/x-python",
   "name": "python",
   "nbconvert_exporter": "python",
   "pygments_lexer": "ipython3",
   "version": "3.12.7"
  }
 },
 "nbformat": 4,
 "nbformat_minor": 5
}
