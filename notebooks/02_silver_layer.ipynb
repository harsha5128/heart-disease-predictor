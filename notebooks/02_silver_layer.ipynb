{
 "cells": [
  {
   "cell_type": "code",
   "execution_count": 2,
   "id": "9b5ef081",
   "metadata": {},
   "outputs": [],
   "source": [
    "import pandas as pd\n",
    "from pymongo import MongoClient\n",
    "from sklearn.preprocessing import LabelEncoder\n",
    "from dotenv import load_dotenv\n",
    "import os"
   ]
  },
  {
   "cell_type": "code",
   "execution_count": 3,
   "id": "b7c402b8",
   "metadata": {},
   "outputs": [],
   "source": [
    "# Step 1: Load environment variables\n",
    "load_dotenv()\n",
    "MONGO_URI = os.getenv(\"MONGO_URI\")\n",
    "if not MONGO_URI:\n",
    "    raise ValueError(\"MONGO_URI environment variable is not set.\")\n"
   ]
  },
  {
   "cell_type": "code",
   "execution_count": 4,
   "id": "14ae24cc",
   "metadata": {},
   "outputs": [],
   "source": [
    "# Step 2: MongoDB connection\n",
    "client = MongoClient(MONGO_URI)\n",
    "db = client[\"healthcare\"]\n",
    "bronze = db[\"heart_disease_bronze\"]\n",
    "silver = db[\"heart_disease_silver\"]"
   ]
  },
  {
   "cell_type": "code",
   "execution_count": null,
   "id": "c22506dd",
   "metadata": {},
   "outputs": [],
   "source": [
    "# Step 3: Fetch raw data from Bronze layer\n",
    "bronze_data = list(bronze.find({}, {'_id': 0}))  # exclude _id\n",
    "df = pd.DataFrame(bronze_data)\n"
   ]
  },
  {
   "cell_type": "code",
   "execution_count": 9,
   "id": "1f5cf6b4",
   "metadata": {},
   "outputs": [
    {
     "name": "stdout",
     "output_type": "stream",
     "text": [
      "<class 'pandas.core.frame.DataFrame'>\n",
      "RangeIndex: 920 entries, 0 to 919\n",
      "Data columns (total 16 columns):\n",
      " #   Column    Non-Null Count  Dtype  \n",
      "---  ------    --------------  -----  \n",
      " 0   id        920 non-null    int64  \n",
      " 1   age       920 non-null    int64  \n",
      " 2   sex       920 non-null    int64  \n",
      " 3   dataset   920 non-null    int64  \n",
      " 4   cp        920 non-null    int64  \n",
      " 5   trestbps  920 non-null    float64\n",
      " 6   chol      920 non-null    float64\n",
      " 7   fbs       920 non-null    bool   \n",
      " 8   restecg   920 non-null    int64  \n",
      " 9   thalch    920 non-null    float64\n",
      " 10  exang     920 non-null    bool   \n",
      " 11  oldpeak   920 non-null    float64\n",
      " 12  slope     920 non-null    int64  \n",
      " 13  ca        920 non-null    float64\n",
      " 14  thal      920 non-null    int64  \n",
      " 15  num       920 non-null    int64  \n",
      "dtypes: bool(2), float64(5), int64(9)\n",
      "memory usage: 102.6 KB\n"
     ]
    }
   ],
   "source": [
    "df.info()"
   ]
  },
  {
   "cell_type": "markdown",
   "id": "e2a28362",
   "metadata": {},
   "source": [
    "Data Preprocessing"
   ]
  },
  {
   "cell_type": "code",
   "execution_count": 10,
   "id": "a50daddf",
   "metadata": {},
   "outputs": [],
   "source": [
    "# Step 4: Handle missing values\n",
    "for col in df.columns:\n",
    "    if df[col].dtype == 'object':\n",
    "        mode = df[col].mode()[0]\n",
    "        df[col] = df[col].fillna(mode)\n",
    "    else:\n",
    "        mean = df[col].mean()\n",
    "        df[col] = df[col].fillna(mean)"
   ]
  },
  {
   "cell_type": "code",
   "execution_count": null,
   "id": "d070a13e",
   "metadata": {},
   "outputs": [],
   "source": [
    "# Step 5: Encode categorical features\n",
    "label_encoders = {}\n",
    "for col in df.select_dtypes(include='object').columns:\n",
    "    le = LabelEncoder()\n",
    "    df[col] = le.fit_transform(df[col])\n",
    "    label_encoders[col] = le  # optional: for inverse_transform later\n",
    "    #label_encoders[\"sex\"].inverse_transform([1])  # gives ['male']"
   ]
  },
  {
   "cell_type": "code",
   "execution_count": 8,
   "id": "60c63621",
   "metadata": {},
   "outputs": [
    {
     "name": "stdout",
     "output_type": "stream",
     "text": [
      "✅ Inserted 920 cleaned records into heart_disease_silver.\n"
     ]
    }
   ],
   "source": [
    "# Step 6: Push to Silver collection\n",
    "records = df.to_dict(orient=\"records\")\n",
    "silver.delete_many({})  # clear if re-running\n",
    "silver.insert_many(records)\n",
    "print(f\"✅ Inserted {len(records)} cleaned records into heart_disease_silver.\")"
   ]
  }
 ],
 "metadata": {
  "kernelspec": {
   "display_name": "venv",
   "language": "python",
   "name": "python3"
  },
  "language_info": {
   "codemirror_mode": {
    "name": "ipython",
    "version": 3
   },
   "file_extension": ".py",
   "mimetype": "text/x-python",
   "name": "python",
   "nbconvert_exporter": "python",
   "pygments_lexer": "ipython3",
   "version": "3.12.7"
  }
 },
 "nbformat": 4,
 "nbformat_minor": 5
}
