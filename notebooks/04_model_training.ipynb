{
 "cells": [
  {
   "cell_type": "code",
   "execution_count": 1,
   "id": "14828d8c",
   "metadata": {},
   "outputs": [],
   "source": [
    "# === Imports ===\n",
    "import pandas as pd\n",
    "import numpy as np\n",
    "from pymongo import MongoClient\n",
    "from dotenv import load_dotenv\n",
    "import os\n",
    "import joblib\n",
    "\n",
    "# Models\n",
    "from sklearn.linear_model import LogisticRegression\n",
    "from sklearn.ensemble import RandomForestClassifier\n",
    "from xgboost import XGBClassifier\n",
    "\n",
    "# Metrics & Utils\n",
    "from sklearn.metrics import accuracy_score, precision_score, recall_score, f1_score, roc_auc_score\n",
    "from sklearn.model_selection import train_test_split\n",
    "from sklearn.preprocessing import label_binarize\n"
   ]
  },
  {
   "cell_type": "markdown",
   "id": "20018f54",
   "metadata": {},
   "source": [
    "                                 `Load Env & MongoDB Connection`                              "
   ]
  },
  {
   "cell_type": "code",
   "execution_count": 2,
   "id": "a9e4be45",
   "metadata": {},
   "outputs": [],
   "source": [
    "# === Load environment variables ===\n",
    "load_dotenv() \n",
    "\n",
    "# === MongoDB Setup ===\n",
    "MONGO_URI = os.getenv(\"MONGO_URI\")  # Your MongoDB Atlas URI\n",
    "client = MongoClient(MONGO_URI)\n",
    "db = client[\"healthcare\"]\n",
    "gold_collection = db[\"heart_disease_gold\"]"
   ]
  },
  {
   "cell_type": "markdown",
   "id": "5cc28dea",
   "metadata": {},
   "source": [
    "                                `Fetch Data from Gold Layer`                                    "
   ]
  },
  {
   "cell_type": "code",
   "execution_count": 3,
   "id": "8d851dd5",
   "metadata": {},
   "outputs": [],
   "source": [
    "# === Fetch Data from Gold Layer ===\n",
    "gold_data = list(gold_collection.find({}, {\"_id\": 0}))  # Exclude MongoDB _id\n",
    "df = pd.DataFrame(gold_data)\n"
   ]
  },
  {
   "cell_type": "code",
   "execution_count": 4,
   "metadata": {},
   "outputs": [
    {
     "name": "stdout",
     "output_type": "stream",
     "text": [
      " Shape of Gold Layer Data: (920, 10)\n",
      " Columns: ['oldpeak', 'thalch', 'exang', 'age', 'ca', 'cp', 'dataset', 'id', 'sex', 'num']\n"
     ]
    },
    {
     "data": {
      "text/html": [
       "<div>\n",
       "<style scoped>\n",
       "    .dataframe tbody tr th:only-of-type {\n",
       "        vertical-align: middle;\n",
       "    }\n",
       "\n",
       "    .dataframe tbody tr th {\n",
       "        vertical-align: top;\n",
       "    }\n",
       "\n",
       "    .dataframe thead th {\n",
       "        text-align: right;\n",
       "    }\n",
       "</style>\n",
       "<table border=\"1\" class=\"dataframe\">\n",
       "  <thead>\n",
       "    <tr style=\"text-align: right;\">\n",
       "      <th></th>\n",
       "      <th>oldpeak</th>\n",
       "      <th>thalch</th>\n",
       "      <th>exang</th>\n",
       "      <th>age</th>\n",
       "      <th>ca</th>\n",
       "      <th>cp</th>\n",
       "      <th>dataset</th>\n",
       "      <th>id</th>\n",
       "      <th>sex</th>\n",
       "      <th>num</th>\n",
       "    </tr>\n",
       "  </thead>\n",
       "  <tbody>\n",
       "    <tr>\n",
       "      <th>0</th>\n",
       "      <td>0.556818</td>\n",
       "      <td>0.633803</td>\n",
       "      <td>False</td>\n",
       "      <td>0.714286</td>\n",
       "      <td>0.000000</td>\n",
       "      <td>1.000000</td>\n",
       "      <td>0.0</td>\n",
       "      <td>0.000000</td>\n",
       "      <td>1.0</td>\n",
       "      <td>0</td>\n",
       "    </tr>\n",
       "    <tr>\n",
       "      <th>1</th>\n",
       "      <td>0.465909</td>\n",
       "      <td>0.338028</td>\n",
       "      <td>True</td>\n",
       "      <td>0.795918</td>\n",
       "      <td>1.000000</td>\n",
       "      <td>0.000000</td>\n",
       "      <td>0.0</td>\n",
       "      <td>0.001088</td>\n",
       "      <td>1.0</td>\n",
       "      <td>2</td>\n",
       "    </tr>\n",
       "    <tr>\n",
       "      <th>2</th>\n",
       "      <td>0.590909</td>\n",
       "      <td>0.485915</td>\n",
       "      <td>True</td>\n",
       "      <td>0.795918</td>\n",
       "      <td>0.666667</td>\n",
       "      <td>0.000000</td>\n",
       "      <td>0.0</td>\n",
       "      <td>0.002176</td>\n",
       "      <td>1.0</td>\n",
       "      <td>1</td>\n",
       "    </tr>\n",
       "    <tr>\n",
       "      <th>3</th>\n",
       "      <td>0.693182</td>\n",
       "      <td>0.894366</td>\n",
       "      <td>False</td>\n",
       "      <td>0.183673</td>\n",
       "      <td>0.000000</td>\n",
       "      <td>0.666667</td>\n",
       "      <td>0.0</td>\n",
       "      <td>0.003264</td>\n",
       "      <td>1.0</td>\n",
       "      <td>0</td>\n",
       "    </tr>\n",
       "    <tr>\n",
       "      <th>4</th>\n",
       "      <td>0.454545</td>\n",
       "      <td>0.788732</td>\n",
       "      <td>False</td>\n",
       "      <td>0.265306</td>\n",
       "      <td>0.000000</td>\n",
       "      <td>0.333333</td>\n",
       "      <td>0.0</td>\n",
       "      <td>0.004353</td>\n",
       "      <td>0.0</td>\n",
       "      <td>0</td>\n",
       "    </tr>\n",
       "  </tbody>\n",
       "</table>\n",
       "</div>"
      ],
      "text/plain": [
       "    oldpeak    thalch  exang       age        ca        cp  dataset        id  \\\n",
       "0  0.556818  0.633803  False  0.714286  0.000000  1.000000      0.0  0.000000   \n",
       "1  0.465909  0.338028   True  0.795918  1.000000  0.000000      0.0  0.001088   \n",
       "2  0.590909  0.485915   True  0.795918  0.666667  0.000000      0.0  0.002176   \n",
       "3  0.693182  0.894366  False  0.183673  0.000000  0.666667      0.0  0.003264   \n",
       "4  0.454545  0.788732  False  0.265306  0.000000  0.333333      0.0  0.004353   \n",
       "\n",
       "   sex  num  \n",
       "0  1.0    0  \n",
       "1  1.0    2  \n",
       "2  1.0    1  \n",
       "3  1.0    0  \n",
       "4  0.0    0  "
      ]
     },
     "execution_count": 4,
     "metadata": {},
     "output_type": "execute_result"
    }
   ],
   "source": [
    "# === Check your data ===\n",
    "print(\" Shape of Gold Layer Data:\", df.shape)\n",
    "print(\" Columns:\", df.columns.tolist())\n",
    "df.head()"
   ]
  },
  {
   "cell_type": "markdown",
   "id": "84864af3",
   "metadata": {},
   "source": [
    "                                 `Train-Test Split`                                              "
   ]
  },
  {
   "cell_type": "code",
   "execution_count": 5,
   "id": "a35b2a22",
   "metadata": {},
   "outputs": [],
   "source": [
    "# === Split features (X) and target (y) ===\n",
    "X = df.drop(\"num\", axis=1)\n",
    "y = df[\"num\"]\n"
   ]
  },
  {
   "cell_type": "code",
   "execution_count": 6,
   "metadata": {},
   "outputs": [
    {
     "name": "stdout",
     "output_type": "stream",
     "text": [
      " Training Set: (736, 9) (736,)\n",
      " Testing Set: (184, 9) (184,)\n"
     ]
    }
   ],
   "source": [
    "# === Train-Test Split ===\n",
    "X_train, X_test, y_train, y_test = train_test_split(\n",
    "    X, y, test_size=0.2, random_state=42, stratify=y  # ensures class balance\n",
    ")\n",
    "\n",
    "print(\" Training Set:\", X_train.shape, y_train.shape)\n",
    "print(\" Testing Set:\", X_test.shape, y_test.shape)"
   ]
  },
  {
   "cell_type": "markdown",
   "id": "be369f9e",
   "metadata": {},
   "source": [
    "                                       `Train Models & Evaluate`                                     "
   ]
  },
  {
   "cell_type": "code",
   "execution_count": 7,
   "id": "32309bd4",
   "metadata": {},
   "outputs": [],
   "source": [
    "# === Models ===\n",
    "models = {\n",
    "    \"Logistic Regression\": LogisticRegression(max_iter=1000, random_state=42),\n",
    "    \"Random Forest\": RandomForestClassifier(n_estimators=100, random_state=42),\n",
    "    \"XGBoost\": XGBClassifier(eval_metric='logloss', random_state=42),\n",
    "}\n",
    "\n",
    "# === Results Dictionary ===\n",
    "results = {}\n",
    "\n",
    "# === Binarize true labels for multiclass ROC AUC ===\n",
    "classes = np.unique(y_test)\n",
    "y_test_binarized = label_binarize(y_test, classes=classes)\n",
    "\n",
    "# === Loop through models ===\n",
    "for name, model in models.items():\n",
    "    model.fit(X_train, y_train)\n",
    "    y_pred = model.predict(X_test)\n",
    "\n",
    "    # Handle probability prediction safely\n",
    "    if hasattr(model, \"predict_proba\"):\n",
    "        y_proba = model.predict_proba(X_test)\n",
    "        # If binary classification, take probability of class 1\n",
    "        if y_proba.shape[1] == 2:\n",
    "            y_proba_for_auc = y_proba[:, 1]\n",
    "            roc_auc = roc_auc_score(y_test, y_proba_for_auc)\n",
    "        else:\n",
    "            # Multiclass\n",
    "            roc_auc = roc_auc_score(y_test_binarized, y_proba, multi_class='ovr', average='macro')\n",
    "    else:\n",
    "        roc_auc = None\n",
    "\n",
    "    # === Store metrics ===\n",
    "    results[name] = {\n",
    "        \"accuracy\": accuracy_score(y_test, y_pred),\n",
    "        \"precision\": precision_score(y_test, y_pred, average='macro', zero_division=0),\n",
    "        \"recall\": recall_score(y_test, y_pred, average='macro', zero_division=0),\n",
    "        \"f1\": f1_score(y_test, y_pred, average='macro', zero_division=0),\n",
    "        \"roc_auc\": roc_auc\n",
    "    }\n"
   ]
  },
  {
   "cell_type": "markdown",
   "id": "05d195c5",
   "metadata": {},
   "source": [
    "                                         `Display Results`                                          "
   ]
  },
  {
   "cell_type": "code",
   "execution_count": 8,
   "metadata": {},
   "outputs": [
    {
     "data": {
      "text/html": [
       "<div>\n",
       "<style scoped>\n",
       "    .dataframe tbody tr th:only-of-type {\n",
       "        vertical-align: middle;\n",
       "    }\n",
       "\n",
       "    .dataframe tbody tr th {\n",
       "        vertical-align: top;\n",
       "    }\n",
       "\n",
       "    .dataframe thead th {\n",
       "        text-align: right;\n",
       "    }\n",
       "</style>\n",
       "<table border=\"1\" class=\"dataframe\">\n",
       "  <thead>\n",
       "    <tr style=\"text-align: right;\">\n",
       "      <th></th>\n",
       "      <th>accuracy</th>\n",
       "      <th>precision</th>\n",
       "      <th>recall</th>\n",
       "      <th>f1</th>\n",
       "      <th>roc_auc</th>\n",
       "    </tr>\n",
       "  </thead>\n",
       "  <tbody>\n",
       "    <tr>\n",
       "      <th>XGBoost</th>\n",
       "      <td>0.641304</td>\n",
       "      <td>0.500733</td>\n",
       "      <td>0.492027</td>\n",
       "      <td>0.494543</td>\n",
       "      <td>0.866878</td>\n",
       "    </tr>\n",
       "    <tr>\n",
       "      <th>Random Forest</th>\n",
       "      <td>0.663043</td>\n",
       "      <td>0.416782</td>\n",
       "      <td>0.428494</td>\n",
       "      <td>0.421875</td>\n",
       "      <td>0.864948</td>\n",
       "    </tr>\n",
       "    <tr>\n",
       "      <th>Logistic Regression</th>\n",
       "      <td>0.614130</td>\n",
       "      <td>0.487089</td>\n",
       "      <td>0.347145</td>\n",
       "      <td>0.322925</td>\n",
       "      <td>0.826774</td>\n",
       "    </tr>\n",
       "  </tbody>\n",
       "</table>\n",
       "</div>"
      ],
      "text/plain": [
       "                     accuracy  precision    recall        f1   roc_auc\n",
       "XGBoost              0.641304   0.500733  0.492027  0.494543  0.866878\n",
       "Random Forest        0.663043   0.416782  0.428494  0.421875  0.864948\n",
       "Logistic Regression  0.614130   0.487089  0.347145  0.322925  0.826774"
      ]
     },
     "execution_count": 8,
     "metadata": {},
     "output_type": "execute_result"
    }
   ],
   "source": [
    "results_df = pd.DataFrame(results).T\n",
    "results_df = results_df.sort_values(by=\"roc_auc\", ascending=False)\n",
    "results_df\n"
   ]
  },
  {
   "cell_type": "code",
   "execution_count": 9,
   "metadata": {},
   "outputs": [],
   "source": [
    "# Save model - adjust path to go outside notebooks folder\n",
    "save_path = \"../api/model/heart_disease_model.pkl\"\n",
    "os.makedirs(os.path.dirname(save_path), exist_ok=True)"
   ]
  },
  {
   "cell_type": "code",
   "execution_count": 10,
   "id": "91897f93",
   "metadata": {},
   "outputs": [
    {
     "name": "stdout",
     "output_type": "stream",
     "text": [
      " Model saved to ../api/model/heart_disease_model.pkl\n"
     ]
    }
   ],
   "source": [
    "# Save model\n",
    "best_model = models[\"XGBoost\"]\n",
    "joblib.dump(best_model, save_path )\n",
    "print(f\" Model saved to {save_path}\")"
   ]
  },
  {
   "cell_type": "markdown",
   "id": "b499172a",
   "metadata": {},
   "source": [
    "                                    `Model Training Summary`                                        \n",
    "\n",
    "- **Data Source:** Gold Layer (MongoDB collection `heart_disease_gold`)\n",
    "\n",
    "- **Target Variable:** `num` (0 = No Disease, 1 = Disease)\n",
    "\n",
    "- **Features Used:** Selected via correlation-based feature selection\n",
    "\n",
    "- **Models Trained:** Logistic Regression, Random Forest, XGBoost\n",
    "\n",
    "- **Evaluation Metrics:** Accuracy, Precision, Recall, F1-score, ROC-AUC\n",
    "\n",
    "- **Best Model:** XGBoost\n",
    "  - Highest ROC-AUC\n",
    "  - Robust to feature types and distributions\n",
    "  - Handles interactions well\n",
    "  \n",
    "- **Model Saved:** `heart_disease_model.pkl`\n"
   ]
  }
 ],
 "metadata": {
  "kernelspec": {
   "display_name": "venv",
   "language": "python",
   "name": "python3"
  },
  "language_info": {
   "codemirror_mode": {
    "name": "ipython",
    "version": 3
   },
   "file_extension": ".py",
   "mimetype": "text/x-python",
   "name": "python",
   "nbconvert_exporter": "python",
   "pygments_lexer": "ipython3",
   "version": "3.12.7"
  }
 },
 "nbformat": 4,
 "nbformat_minor": 5
}
