{
 "cells": [
  {
   "cell_type": "code",
   "execution_count": 1,
   "id": "14828d8c",
   "metadata": {},
   "outputs": [],
   "source": [
    "# === Imports ===\n",
    "import pandas as pd\n",
    "import numpy as np\n",
    "from sklearn.model_selection import train_test_split\n",
    "from pymongo import MongoClient\n",
    "import joblib\n",
    "import os\n",
    "from dotenv import load_dotenv\n",
    "from sklearn.linear_model import LogisticRegression\n",
    "from sklearn.ensemble import RandomForestClassifier\n",
    "from xgboost import XGBClassifier\n",
    "from sklearn.metrics import accuracy_score, precision_score, recall_score, f1_score, roc_auc_score\n",
    "from sklearn.preprocessing import StandardScaler\n",
    "from sklearn.preprocessing import label_binarize\n",
    "\n"
   ]
  },
  {
   "cell_type": "code",
   "execution_count": 2,
   "id": "a9e4be45",
   "metadata": {},
   "outputs": [],
   "source": [
    "# === Load environment variables ===\n",
    "load_dotenv() \n",
    "\n",
    "# === MongoDB Setup ===\n",
    "MONGO_URI = os.getenv(\"MONGO_URI\")  # Your MongoDB Atlas URI\n",
    "client = MongoClient(MONGO_URI)\n",
    "db = client[\"healthcare\"]\n",
    "gold_collection = db[\"heart_disease_gold\"]"
   ]
  },
  {
   "cell_type": "code",
   "execution_count": 3,
   "id": "8d851dd5",
   "metadata": {},
   "outputs": [],
   "source": [
    "# === Fetch Data from Gold Layer ===\n",
    "gold_data = list(gold_collection.find({}, {\"_id\": 0}))  # Exclude MongoDB _id\n",
    "df = pd.DataFrame(gold_data)\n"
   ]
  },
  {
   "cell_type": "code",
   "execution_count": 22,
   "id": "1582f376",
   "metadata": {},
   "outputs": [
    {
     "name": "stdout",
     "output_type": "stream",
     "text": [
      "<class 'pandas.core.frame.DataFrame'>\n",
      "RangeIndex: 920 entries, 0 to 919\n",
      "Data columns (total 9 columns):\n",
      " #   Column    Non-Null Count  Dtype  \n",
      "---  ------    --------------  -----  \n",
      " 0   id        920 non-null    float64\n",
      " 1   age       920 non-null    float64\n",
      " 2   dataset   920 non-null    float64\n",
      " 3   cp        920 non-null    float64\n",
      " 4   trestbps  920 non-null    float64\n",
      " 5   chol      920 non-null    float64\n",
      " 6   thalch    920 non-null    float64\n",
      " 7   oldpeak   920 non-null    float64\n",
      " 8   num       920 non-null    int64  \n",
      "dtypes: float64(8), int64(1)\n",
      "memory usage: 64.8 KB\n"
     ]
    }
   ],
   "source": [
    "df.info()"
   ]
  },
  {
   "cell_type": "code",
   "execution_count": 4,
   "metadata": {},
   "outputs": [
    {
     "name": "stdout",
     "output_type": "stream",
     "text": [
      "✅ Shape of Gold Layer Data: (920, 9)\n",
      "🧾 Columns: ['id', 'age', 'dataset', 'cp', 'trestbps', 'chol', 'thalch', 'oldpeak', 'num']\n"
     ]
    },
    {
     "data": {
      "text/html": [
       "<div>\n",
       "<style scoped>\n",
       "    .dataframe tbody tr th:only-of-type {\n",
       "        vertical-align: middle;\n",
       "    }\n",
       "\n",
       "    .dataframe tbody tr th {\n",
       "        vertical-align: top;\n",
       "    }\n",
       "\n",
       "    .dataframe thead th {\n",
       "        text-align: right;\n",
       "    }\n",
       "</style>\n",
       "<table border=\"1\" class=\"dataframe\">\n",
       "  <thead>\n",
       "    <tr style=\"text-align: right;\">\n",
       "      <th></th>\n",
       "      <th>id</th>\n",
       "      <th>age</th>\n",
       "      <th>dataset</th>\n",
       "      <th>cp</th>\n",
       "      <th>trestbps</th>\n",
       "      <th>chol</th>\n",
       "      <th>thalch</th>\n",
       "      <th>oldpeak</th>\n",
       "      <th>num</th>\n",
       "    </tr>\n",
       "  </thead>\n",
       "  <tbody>\n",
       "    <tr>\n",
       "      <th>0</th>\n",
       "      <td>0.000000</td>\n",
       "      <td>0.714286</td>\n",
       "      <td>0.0</td>\n",
       "      <td>1.000000</td>\n",
       "      <td>0.725</td>\n",
       "      <td>0.386401</td>\n",
       "      <td>0.633803</td>\n",
       "      <td>0.556818</td>\n",
       "      <td>0</td>\n",
       "    </tr>\n",
       "    <tr>\n",
       "      <th>1</th>\n",
       "      <td>0.001088</td>\n",
       "      <td>0.795918</td>\n",
       "      <td>0.0</td>\n",
       "      <td>0.000000</td>\n",
       "      <td>0.800</td>\n",
       "      <td>0.474295</td>\n",
       "      <td>0.338028</td>\n",
       "      <td>0.465909</td>\n",
       "      <td>2</td>\n",
       "    </tr>\n",
       "    <tr>\n",
       "      <th>2</th>\n",
       "      <td>0.002176</td>\n",
       "      <td>0.795918</td>\n",
       "      <td>0.0</td>\n",
       "      <td>0.000000</td>\n",
       "      <td>0.600</td>\n",
       "      <td>0.379768</td>\n",
       "      <td>0.485915</td>\n",
       "      <td>0.590909</td>\n",
       "      <td>1</td>\n",
       "    </tr>\n",
       "    <tr>\n",
       "      <th>3</th>\n",
       "      <td>0.003264</td>\n",
       "      <td>0.183673</td>\n",
       "      <td>0.0</td>\n",
       "      <td>0.666667</td>\n",
       "      <td>0.650</td>\n",
       "      <td>0.414594</td>\n",
       "      <td>0.894366</td>\n",
       "      <td>0.693182</td>\n",
       "      <td>0</td>\n",
       "    </tr>\n",
       "    <tr>\n",
       "      <th>4</th>\n",
       "      <td>0.004353</td>\n",
       "      <td>0.265306</td>\n",
       "      <td>0.0</td>\n",
       "      <td>0.333333</td>\n",
       "      <td>0.650</td>\n",
       "      <td>0.338308</td>\n",
       "      <td>0.788732</td>\n",
       "      <td>0.454545</td>\n",
       "      <td>0</td>\n",
       "    </tr>\n",
       "  </tbody>\n",
       "</table>\n",
       "</div>"
      ],
      "text/plain": [
       "         id       age  dataset        cp  trestbps      chol    thalch  \\\n",
       "0  0.000000  0.714286      0.0  1.000000     0.725  0.386401  0.633803   \n",
       "1  0.001088  0.795918      0.0  0.000000     0.800  0.474295  0.338028   \n",
       "2  0.002176  0.795918      0.0  0.000000     0.600  0.379768  0.485915   \n",
       "3  0.003264  0.183673      0.0  0.666667     0.650  0.414594  0.894366   \n",
       "4  0.004353  0.265306      0.0  0.333333     0.650  0.338308  0.788732   \n",
       "\n",
       "    oldpeak  num  \n",
       "0  0.556818    0  \n",
       "1  0.465909    2  \n",
       "2  0.590909    1  \n",
       "3  0.693182    0  \n",
       "4  0.454545    0  "
      ]
     },
     "execution_count": 4,
     "metadata": {},
     "output_type": "execute_result"
    }
   ],
   "source": [
    "# === Check your data ===\n",
    "print(\"✅ Shape of Gold Layer Data:\", df.shape)\n",
    "print(\"🧾 Columns:\", df.columns.tolist())\n",
    "df.head()"
   ]
  },
  {
   "cell_type": "code",
   "execution_count": 5,
   "id": "a35b2a22",
   "metadata": {},
   "outputs": [],
   "source": [
    "# === Split features (X) and target (y) ===\n",
    "X = df.drop(\"num\", axis=1)\n",
    "y = df[\"num\"]\n"
   ]
  },
  {
   "cell_type": "code",
   "execution_count": 6,
   "metadata": {},
   "outputs": [
    {
     "name": "stdout",
     "output_type": "stream",
     "text": [
      "✅ Training Set: (736, 8) (736,)\n",
      "✅ Testing Set: (184, 8) (184,)\n"
     ]
    }
   ],
   "source": [
    "# === Train-Test Split ===\n",
    "X_train, X_test, y_train, y_test = train_test_split(\n",
    "    X, y, test_size=0.2, random_state=42, stratify=y  # ensures class balance\n",
    ")\n",
    "\n",
    "print(\"✅ Training Set:\", X_train.shape, y_train.shape)\n",
    "print(\"✅ Testing Set:\", X_test.shape, y_test.shape)"
   ]
  },
  {
   "cell_type": "code",
   "execution_count": 7,
   "id": "32309bd4",
   "metadata": {},
   "outputs": [],
   "source": [
    "# === Models ===\n",
    "models = {\n",
    "    \"Logistic Regression\": LogisticRegression(max_iter=1000, random_state=42),\n",
    "    \"Random Forest\": RandomForestClassifier(n_estimators=100, random_state=42),\n",
    "    \"XGBoost\": XGBClassifier(eval_metric='logloss', random_state=42),\n",
    "}\n",
    "\n",
    "# === Results Dictionary ===\n",
    "results = {}\n",
    "\n",
    "# === Binarize true labels for multiclass ROC AUC ===\n",
    "classes = np.unique(y_test)\n",
    "y_test_binarized = label_binarize(y_test, classes=classes)\n",
    "\n",
    "# === Loop through models ===\n",
    "for name, model in models.items():\n",
    "    model.fit(X_train, y_train)\n",
    "    y_pred = model.predict(X_test)\n",
    "\n",
    "    # Handle probability prediction safely\n",
    "    if hasattr(model, \"predict_proba\"):\n",
    "        y_proba = model.predict_proba(X_test)\n",
    "        # If binary classification, take probability of class 1\n",
    "        if y_proba.shape[1] == 2:\n",
    "            y_proba_for_auc = y_proba[:, 1]\n",
    "            roc_auc = roc_auc_score(y_test, y_proba_for_auc)\n",
    "        else:\n",
    "            # Multiclass\n",
    "            roc_auc = roc_auc_score(y_test_binarized, y_proba, multi_class='ovr', average='macro')\n",
    "    else:\n",
    "        roc_auc = None\n",
    "\n",
    "    # === Store metrics ===\n",
    "    results[name] = {\n",
    "        \"accuracy\": accuracy_score(y_test, y_pred),\n",
    "        \"precision\": precision_score(y_test, y_pred, average='macro', zero_division=0),\n",
    "        \"recall\": recall_score(y_test, y_pred, average='macro', zero_division=0),\n",
    "        \"f1\": f1_score(y_test, y_pred, average='macro', zero_division=0),\n",
    "        \"roc_auc\": roc_auc\n",
    "    }\n"
   ]
  },
  {
   "cell_type": "code",
   "execution_count": 8,
   "metadata": {},
   "outputs": [
    {
     "data": {
      "text/html": [
       "<div>\n",
       "<style scoped>\n",
       "    .dataframe tbody tr th:only-of-type {\n",
       "        vertical-align: middle;\n",
       "    }\n",
       "\n",
       "    .dataframe tbody tr th {\n",
       "        vertical-align: top;\n",
       "    }\n",
       "\n",
       "    .dataframe thead th {\n",
       "        text-align: right;\n",
       "    }\n",
       "</style>\n",
       "<table border=\"1\" class=\"dataframe\">\n",
       "  <thead>\n",
       "    <tr style=\"text-align: right;\">\n",
       "      <th></th>\n",
       "      <th>accuracy</th>\n",
       "      <th>precision</th>\n",
       "      <th>recall</th>\n",
       "      <th>f1</th>\n",
       "      <th>roc_auc</th>\n",
       "    </tr>\n",
       "  </thead>\n",
       "  <tbody>\n",
       "    <tr>\n",
       "      <th>Random Forest</th>\n",
       "      <td>0.673913</td>\n",
       "      <td>0.440785</td>\n",
       "      <td>0.451076</td>\n",
       "      <td>0.444274</td>\n",
       "      <td>0.873475</td>\n",
       "    </tr>\n",
       "    <tr>\n",
       "      <th>XGBoost</th>\n",
       "      <td>0.646739</td>\n",
       "      <td>0.434901</td>\n",
       "      <td>0.440664</td>\n",
       "      <td>0.437598</td>\n",
       "      <td>0.865633</td>\n",
       "    </tr>\n",
       "    <tr>\n",
       "      <th>Logistic Regression</th>\n",
       "      <td>0.592391</td>\n",
       "      <td>0.290445</td>\n",
       "      <td>0.320550</td>\n",
       "      <td>0.286154</td>\n",
       "      <td>0.808700</td>\n",
       "    </tr>\n",
       "  </tbody>\n",
       "</table>\n",
       "</div>"
      ],
      "text/plain": [
       "                     accuracy  precision    recall        f1   roc_auc\n",
       "Random Forest        0.673913   0.440785  0.451076  0.444274  0.873475\n",
       "XGBoost              0.646739   0.434901  0.440664  0.437598  0.865633\n",
       "Logistic Regression  0.592391   0.290445  0.320550  0.286154  0.808700"
      ]
     },
     "execution_count": 8,
     "metadata": {},
     "output_type": "execute_result"
    }
   ],
   "source": [
    "results_df = pd.DataFrame(results).T\n",
    "results_df = results_df.sort_values(by=\"roc_auc\", ascending=False)\n",
    "results_df\n"
   ]
  },
  {
   "cell_type": "code",
   "execution_count": 19,
   "metadata": {},
   "outputs": [],
   "source": [
    "# Save model - adjust path to go outside notebooks folder\n",
    "save_path = \"../api/model/heart_disease_model.pkl\"\n",
    "os.makedirs(os.path.dirname(save_path), exist_ok=True)"
   ]
  },
  {
   "cell_type": "code",
   "execution_count": 21,
   "id": "91897f93",
   "metadata": {},
   "outputs": [
    {
     "name": "stdout",
     "output_type": "stream",
     "text": [
      "✅ Model saved to ../api/model/heart_disease_model.pkl\n"
     ]
    }
   ],
   "source": [
    "# Save model\n",
    "rf_model = models[\"Random Forest\"]\n",
    "joblib.dump(rf_model, save_path )\n",
    "print(f\"✅ Model saved to {save_path}\")"
   ]
  },
  {
   "cell_type": "code",
   "execution_count": null,
   "id": "b43f129a",
   "metadata": {},
   "outputs": [],
   "source": []
  }
 ],
 "metadata": {
  "kernelspec": {
   "display_name": "venv",
   "language": "python",
   "name": "python3"
  },
  "language_info": {
   "codemirror_mode": {
    "name": "ipython",
    "version": 3
   },
   "file_extension": ".py",
   "mimetype": "text/x-python",
   "name": "python",
   "nbconvert_exporter": "python",
   "pygments_lexer": "ipython3",
   "version": "3.12.7"
  }
 },
 "nbformat": 4,
 "nbformat_minor": 5
}
